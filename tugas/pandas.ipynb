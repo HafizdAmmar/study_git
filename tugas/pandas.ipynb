{
 "cells": [
  {
   "cell_type": "code",
   "execution_count": null,
   "metadata": {
    "vscode": {
     "languageId": "plaintext"
    }
   },
   "outputs": [],
   "source": [
    "import pandas as pd\n",
    "\n",
    "#Soal \n",
    "df_sampah = pd.read_excel('data_sampah.xlsx')\n",
    "df_sampah"
   ]
  },
  {
   "cell_type": "code",
   "execution_count": null,
   "metadata": {
    "vscode": {
     "languageId": "plaintext"
    }
   },
   "outputs": [],
   "source": [
    "#Soal 2\n",
    "df_2020 = df_sampah[df_sampah['tahun'] == 2020]\n",
    "thn = {}\n",
    "\n",
    "for i, baris in df_2020.iterrows():\n",
    "    tahun = baris['tahun']\n",
    "    total = baris['jumlah_produksi_sampah']*365\n",
    "    if tahun in thn:\n",
    "        thn[tahun] += total\n",
    "    else:\n",
    "        thn[tahun] = total\n",
    "        print(f'Total Produksi Sampah di Kabupaten/Kota Jawa Barat Pada Tahun {tahun} adalah: {thn[2020]:.2f}')"
   ]
  },
  {
   "cell_type": "code",
   "execution_count": null,
   "metadata": {
    "vscode": {
     "languageId": "plaintext"
    }
   },
   "outputs": [],
   "source": [
    "#Soal 3\n",
    "thn = {}\n",
    "for i, baris in df_sampah.iterrows():\n",
    "    tahun = baris['tahun']\n",
    "    total = baris['jumlah_produksi_sampah']*365\n",
    "    if tahun in thn:\n",
    "        thn[tahun] += total\n",
    "    else:\n",
    "        thn[tahun] = total\n",
    "for tahun, total in thn.items():\n",
    "    print(f'Total Produksi Sampah di Kabupaten/Kota Jawa Barat Pada Tahun {tahun} adalah: {total:.2f}')"
   ]
  },
  {
   "cell_type": "code",
   "execution_count": null,
   "metadata": {
    "vscode": {
     "languageId": "plaintext"
    }
   },
   "outputs": [],
   "source": [
    "#Soal 4\n",
    "dt_thn = {}\n",
    "for i, baris in df_sampah.iterrows():\n",
    "    tahun = baris['tahun']\n",
    "    kab_kota = baris['nama_kabupaten_kota']\n",
    "    total = baris['jumlah_produksi_sampah']*365 \n",
    "    \n",
    "    if tahun not in dt_thn:\n",
    "        dt_thn[tahun] = {}\n",
    "    if kab_kota in dt_thn[tahun]:\n",
    "        dt_thn[tahun][kab_kota] += total\n",
    "    else:\n",
    "        dt_thn[tahun][kab_kota] = total\n",
    "dataset = []\n",
    "for tahun, kab_kot_dic in dt_thn.items():\n",
    "    for kab_kota, total in kab_kot_dic.items():\n",
    "        dataset.append({'Tahun Produksi': tahun, 'Kota/Kabupaten': kab_kota, 'Total Produksi': total})\n",
    "df = pd.DataFrame(dataset)\n",
    "df"
   ]
  },
  {
   "cell_type": "code",
   "execution_count": null,
   "metadata": {
    "vscode": {
     "languageId": "plaintext"
    }
   },
   "outputs": [],
   "source": []
  }
 ],
 "metadata": {
  "language_info": {
   "name": "python"
  }
 },
 "nbformat": 4,
 "nbformat_minor": 2
}
